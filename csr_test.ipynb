{
 "cells": [
  {
   "cell_type": "code",
   "execution_count": 1,
   "metadata": {},
   "outputs": [],
   "source": [
    "import numpy as np\n",
    "from scipy import sparse\n",
    "\n",
    "a = sparse.random(100,100,format='csr',dtype='float64')"
   ]
  },
  {
   "cell_type": "code",
   "execution_count": 2,
   "metadata": {},
   "outputs": [
    {
     "name": "stdout",
     "output_type": "stream",
     "text": [
      "  (0, 27)\t0.8501931413700552\n",
      "  (0, 43)\t0.18537242139426535\n",
      "  (0, 73)\t0.04338877955085518\n",
      "  (2, 12)\t0.019286530361050547\n",
      "  (2, 78)\t0.7703555705538556\n",
      "  (2, 93)\t0.9484605818697074\n",
      "  (5, 77)\t0.807441539855188\n",
      "  (6, 15)\t0.8426434209703301\n",
      "  (7, 7)\t0.05594153764880505\n",
      "  (7, 50)\t0.9579347307513951\n",
      "  (7, 57)\t0.04467508811953469\n",
      "  (9, 56)\t0.8691303301572516\n",
      "  (10, 41)\t0.14024221426930705\n",
      "  (13, 28)\t0.30130597443705187\n",
      "  (13, 64)\t0.9012533159986423\n",
      "  (14, 70)\t0.09418020749847356\n",
      "  (15, 20)\t0.3340366694925144\n",
      "  (17, 86)\t0.28854336012842785\n",
      "  (18, 8)\t0.3722225456950964\n",
      "  (19, 37)\t0.30721987053326205\n",
      "  (20, 74)\t0.1832975650189338\n",
      "  (21, 47)\t0.9743822724927529\n",
      "  (22, 20)\t0.7521643972673713\n",
      "  (22, 44)\t0.7059415108301103\n",
      "  (22, 48)\t0.29767961587951797\n",
      "  :\t:\n",
      "  (78, 39)\t0.4744375961474152\n",
      "  (78, 94)\t0.4311558404561864\n",
      "  (79, 87)\t0.12445648090007577\n",
      "  (81, 25)\t0.0009928722805289114\n",
      "  (81, 65)\t0.4376993235666411\n",
      "  (82, 32)\t0.7780951334140924\n",
      "  (82, 78)\t0.9117336285961763\n",
      "  (82, 94)\t0.3963449903550442\n",
      "  (83, 32)\t0.38132399167627706\n",
      "  (83, 52)\t0.28440671905266734\n",
      "  (86, 34)\t0.1416599697492602\n",
      "  (86, 73)\t0.4903413945177231\n",
      "  (86, 87)\t0.6832112325245655\n",
      "  (86, 88)\t0.08345491522945792\n",
      "  (87, 39)\t0.17651126319316013\n",
      "  (89, 22)\t0.6979258331241541\n",
      "  (89, 74)\t0.8399548214434855\n",
      "  (90, 55)\t0.5267764952512286\n",
      "  (90, 65)\t0.8779235880522056\n",
      "  (91, 76)\t0.5289352898059829\n",
      "  (92, 70)\t0.7317445736940615\n",
      "  (93, 92)\t0.9493791601559989\n",
      "  (96, 70)\t0.5317647553648146\n",
      "  (97, 19)\t0.5802786333557349\n",
      "  (99, 15)\t0.16816391291200916\n"
     ]
    }
   ],
   "source": [
    "print(a)"
   ]
  },
  {
   "cell_type": "code",
   "execution_count": 3,
   "metadata": {},
   "outputs": [],
   "source": [
    "check = a.toarray()"
   ]
  },
  {
   "cell_type": "code",
   "execution_count": 67,
   "metadata": {},
   "outputs": [
    {
     "data": {
      "text/plain": [
       "0.8940978788643864"
      ]
     },
     "execution_count": 67,
     "metadata": {},
     "output_type": "execute_result"
    }
   ],
   "source": [
    "np.max(check)"
   ]
  },
  {
   "cell_type": "code",
   "execution_count": 68,
   "metadata": {},
   "outputs": [
    {
     "name": "stdout",
     "output_type": "stream",
     "text": [
      "[[0.         0.         0.         0.         0.         0.\n",
      "  0.         0.         0.         0.        ]\n",
      " [0.         0.         0.         0.         0.         0.\n",
      "  0.         0.         0.         0.        ]\n",
      " [0.         0.         0.         0.         0.         0.\n",
      "  0.         0.         0.         0.        ]\n",
      " [0.         0.         0.         0.         0.         0.\n",
      "  0.         0.         0.         0.        ]\n",
      " [0.         0.         0.         0.         0.         0.\n",
      "  0.         0.         0.         0.        ]\n",
      " [0.         0.         0.         0.         0.         0.\n",
      "  0.         0.         0.         0.        ]\n",
      " [0.         0.         0.         0.         0.         0.\n",
      "  0.         0.         0.         0.        ]\n",
      " [0.         0.         0.         0.         0.         0.\n",
      "  0.         0.         0.         0.89409788]\n",
      " [0.         0.         0.         0.         0.         0.\n",
      "  0.         0.         0.         0.        ]\n",
      " [0.         0.         0.         0.         0.         0.\n",
      "  0.         0.         0.         0.        ]]\n"
     ]
    }
   ],
   "source": [
    "print(check)"
   ]
  },
  {
   "cell_type": "code",
   "execution_count": 4,
   "metadata": {},
   "outputs": [
    {
     "name": "stdout",
     "output_type": "stream",
     "text": [
      "100\n"
     ]
    }
   ],
   "source": [
    "row_sum = check.sum(axis=1)\n",
    "length = len(row_sum)\n",
    "print(length)"
   ]
  },
  {
   "cell_type": "code",
   "execution_count": 5,
   "metadata": {},
   "outputs": [
    {
     "name": "stdout",
     "output_type": "stream",
     "text": [
      "[[ 0.  0.  0. ...  0.  0.  0.]\n",
      " [nan nan nan ... nan nan nan]\n",
      " [ 0.  0.  0. ...  0.  0.  0.]\n",
      " ...\n",
      " [ 0.  0.  0. ...  0.  0.  0.]\n",
      " [nan nan nan ... nan nan nan]\n",
      " [ 0.  0.  0. ...  0.  0.  0.]]\n"
     ]
    },
    {
     "name": "stderr",
     "output_type": "stream",
     "text": [
      "/home/ysahil/anaconda3/lib/python3.7/site-packages/ipykernel_launcher.py:1: RuntimeWarning: divide by zero encountered in true_divide\n",
      "  \"\"\"Entry point for launching an IPython kernel.\n",
      "/home/ysahil/anaconda3/lib/python3.7/site-packages/ipykernel_launcher.py:1: RuntimeWarning: invalid value encountered in true_divide\n",
      "  \"\"\"Entry point for launching an IPython kernel.\n"
     ]
    }
   ],
   "source": [
    "n_result = check/row_sum.reshape(length,1)\n",
    "print(n_result)"
   ]
  },
  {
   "cell_type": "code",
   "execution_count": 6,
   "metadata": {},
   "outputs": [
    {
     "name": "stderr",
     "output_type": "stream",
     "text": [
      "/home/ysahil/anaconda3/lib/python3.7/site-packages/numpy/core/fromnumeric.py:83: RuntimeWarning: invalid value encountered in reduce\n",
      "  return ufunc.reduce(obj, axis, dtype, out, **passkwargs)\n"
     ]
    },
    {
     "data": {
      "text/plain": [
       "nan"
      ]
     },
     "execution_count": 6,
     "metadata": {},
     "output_type": "execute_result"
    }
   ],
   "source": [
    "np.max(n_result)"
   ]
  },
  {
   "cell_type": "code",
   "execution_count": 8,
   "metadata": {},
   "outputs": [
    {
     "data": {
      "text/plain": [
       "0.984703960636127"
      ]
     },
     "execution_count": 8,
     "metadata": {},
     "output_type": "execute_result"
    }
   ],
   "source": [
    "np.max(check)"
   ]
  },
  {
   "cell_type": "code",
   "execution_count": 11,
   "metadata": {},
   "outputs": [
    {
     "name": "stdout",
     "output_type": "stream",
     "text": [
      "[[0. 0. 0. ... 0. 0. 0.]\n",
      " [0. 0. 0. ... 0. 0. 0.]\n",
      " [0. 0. 0. ... 0. 0. 0.]\n",
      " ...\n",
      " [0. 0. 0. ... 0. 0. 0.]\n",
      " [0. 0. 0. ... 0. 0. 0.]\n",
      " [0. 0. 0. ... 0. 0. 0.]]\n"
     ]
    }
   ],
   "source": [
    "# np.nan_to_num(n_result)\n",
    "where_are_NaNs = np.isnan(n_result)\n",
    "n_result[where_are_NaNs] = 0\n",
    "print(n_result)"
   ]
  },
  {
   "cell_type": "code",
   "execution_count": 13,
   "metadata": {},
   "outputs": [
    {
     "name": "stdout",
     "output_type": "stream",
     "text": [
      "1.0\n"
     ]
    }
   ],
   "source": [
    "np.max(n_result)\n",
    "print(n_result[99][15])"
   ]
  },
  {
   "cell_type": "code",
   "execution_count": 14,
   "metadata": {},
   "outputs": [],
   "source": [
    "n_c_result = sparse.csr_matrix(n_result)"
   ]
  },
  {
   "cell_type": "code",
   "execution_count": 15,
   "metadata": {},
   "outputs": [
    {
     "name": "stdout",
     "output_type": "stream",
     "text": [
      "  (0, 27)\t0.787978793936494\n",
      "  (0, 43)\t0.17180747518611478\n",
      "  (0, 73)\t0.04021373087739128\n",
      "  (2, 12)\t0.011096312405520026\n",
      "  (2, 78)\t0.44321637506460165\n",
      "  (2, 93)\t0.5456873125298783\n",
      "  (5, 77)\t1.0\n",
      "  (6, 15)\t1.0\n",
      "  (7, 7)\t0.05284725894899188\n",
      "  (7, 50)\t0.9049487536446571\n",
      "  (7, 57)\t0.04220398740635103\n",
      "  (9, 56)\t1.0\n",
      "  (10, 41)\t1.0\n",
      "  (13, 28)\t0.2505539451014403\n",
      "  (13, 64)\t0.7494460548985599\n",
      "  (14, 70)\t1.0\n",
      "  (15, 20)\t1.0\n",
      "  (17, 86)\t1.0\n",
      "  (18, 8)\t1.0\n",
      "  (19, 37)\t1.0\n",
      "  (20, 74)\t1.0\n",
      "  (21, 47)\t1.0\n",
      "  (22, 20)\t0.4283919573295357\n",
      "  (22, 44)\t0.40206591362656546\n",
      "  (22, 48)\t0.16954212904389881\n",
      "  :\t:\n",
      "  (78, 39)\t0.5238969022641968\n",
      "  (78, 94)\t0.47610309773580317\n",
      "  (79, 87)\t1.0\n",
      "  (81, 25)\t0.0022632549425948864\n",
      "  (81, 65)\t0.9977367450574051\n",
      "  (82, 32)\t0.37297714657366615\n",
      "  (82, 78)\t0.4370362859577007\n",
      "  (82, 94)\t0.1899865674686332\n",
      "  (83, 32)\t0.5727901470231783\n",
      "  (83, 52)\t0.4272098529768217\n",
      "  (86, 34)\t0.10128209065538989\n",
      "  (86, 73)\t0.3505775248966808\n",
      "  (86, 87)\t0.4884729406042745\n",
      "  (86, 88)\t0.05966744384365489\n",
      "  (87, 39)\t1.0\n",
      "  (89, 22)\t0.4538231435913142\n",
      "  (89, 74)\t0.5461768564086859\n",
      "  (90, 55)\t0.3750099409209174\n",
      "  (90, 65)\t0.6249900590790826\n",
      "  (91, 76)\t1.0\n",
      "  (92, 70)\t1.0\n",
      "  (93, 92)\t1.0\n",
      "  (96, 70)\t1.0\n",
      "  (97, 19)\t1.0\n",
      "  (99, 15)\t1.0\n"
     ]
    }
   ],
   "source": [
    "print(n_c_result)"
   ]
  },
  {
   "cell_type": "code",
   "execution_count": null,
   "metadata": {},
   "outputs": [],
   "source": []
  }
 ],
 "metadata": {
  "kernelspec": {
   "display_name": "Python 3",
   "language": "python",
   "name": "python3"
  },
  "language_info": {
   "codemirror_mode": {
    "name": "ipython",
    "version": 3
   },
   "file_extension": ".py",
   "mimetype": "text/x-python",
   "name": "python",
   "nbconvert_exporter": "python",
   "pygments_lexer": "ipython3",
   "version": "3.7.1"
  }
 },
 "nbformat": 4,
 "nbformat_minor": 2
}
